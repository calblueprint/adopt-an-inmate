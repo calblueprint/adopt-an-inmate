{
 "cells": [
  {
   "cell_type": "markdown",
   "id": "2587341c-cdf5-4445-8fac-5bf3cabf744d",
   "metadata": {},
   "source": [
    "# Model Embeddings Research 🧐"
   ]
  },
  {
   "cell_type": "markdown",
   "id": "7bc64005-284a-4cb8-9dc9-826366ae8a47",
   "metadata": {},
   "source": [
    "### Setup"
   ]
  },
  {
   "cell_type": "code",
   "execution_count": 55,
   "id": "5b51b64f-c8a9-4c1a-8ea2-83254f3bd9b7",
   "metadata": {},
   "outputs": [],
   "source": [
    "from sentence_transformers import SentenceTransformer #NOTE: make sure python vers 3.10+\n",
    "from sklearn.metrics.pairwise import cosine_similarity\n",
    "import numpy as np\n",
    "import pandas as pd\n",
    "import matplotlib.pyplot as plt"
   ]
  },
  {
   "cell_type": "markdown",
   "id": "433618b9-4e11-4087-899d-540eca610655",
   "metadata": {},
   "source": [
    "Remember to do...SentenceTransformers, or SBERT <code>pip install -U sentence-transformers</code>"
   ]
  },
  {
   "cell_type": "code",
   "execution_count": 56,
   "id": "4eb2b39e-7c50-4eef-9ca4-d3abc2d8fc96",
   "metadata": {},
   "outputs": [],
   "source": [
    "adopter_bios = [\"I have a therapy cat. We regularly visit nursing homes to visit with residents. I enjoy running (currently training for a half marathon) and fitness. I have run three marathons in the past. I work in higher education at UC Berkeley. One of my favorite parts of my job is the opportunity to learn about all the academic programs within the university. I have two sisters and am newly married to my husband. We enjoy traveling together and recently visited Spain, Australia, and Greece. I enjoy gardening (currently growing peppers, kale, arugula, tomatoes, strawberries and peas).\",]\n",
    "\n",
    "inmate_bios = [\"I like sports, cars, writing poems, and working out. I have earned many certificates while in prison. I am a caring person who has made some mistakes in life and I'm working hard for a second chance. I have been in jail since I was 20 years old. I have felt lonely and frustrated.\",\n",
    "               \"I like sports, cars, and writing poems. I have earned many certificates while in prison. I am a caring person who has made some mistakes in life and I'm working hard for a second chance. I have been in jail since I was 20 years old. I have felt lonely and frustrated.\",\n",
    "               \"I like sports, cars, writing poems, running, and working out. I have earned many certificates while in prison. I am a caring person who has made some mistakes in life and I'm working hard for a second chance. I have been in jail since I was 20 years old. I have felt lonely and frustrated.\",\n",
    "               \"I like sports, cars, writing poems, working out, and gardening. I have earned many certificates while in prison. I am a caring person who has made some mistakes in life and I'm working hard for a second chance. I have been in jail since I was 20 years old. I have felt lonely and frustrated.\",\n",
    "               \"I enjoy painting, knitting, and reading mystery novels. I have earned many certificates while in prison. I am a caring person who has made some mistakes in life and I'm working hard for a second chance.\",\n",
    "               \"I enjoy working out, going for runs, and playing basketball. I love learning about fitness and health, and I often set new personal goals for myself. I am also interested in travel and have dreamed of visiting Europe someday. I have been in prison for a few years, but I try to stay positive and focused on self-improvement. I have a small circle of friends and like spending time connecting with them when I can.\",\n",
    "               \"I like working out and staying active through hiking and cycling. Gardening has also become a relaxing hobby for me, and I enjoy growing vegetables and herbs in small containers. Family is very important to me, and I try to maintain strong connections with my siblings. I have faced challenges in life, but I am committed to personal growth and learning new skills whenever I can. I have been focused on improving both my physical and mental well-being.\",\n",
    "              ]\n",
    "\n",
    "inmate_descs = [\"original\", #desc of what each bio is\n",
    "               \"deleted working out, sports still there?\",\n",
    "               \"added running mention\",\n",
    "               \"added gardening mention\",\n",
    "               \"unrelated hobbies\",\n",
    "               \"more in depth about sports, fitness, etc.\",\n",
    "               \"longer, gardening mention\",]\n"
   ]
  },
  {
   "cell_type": "markdown",
   "id": "6b9bd0d0-e40a-4686-a272-3ac24a46a996",
   "metadata": {},
   "source": [
    "### Test Run w/ Sentence Transformer (all-MiniLM-L6-v2)"
   ]
  },
  {
   "cell_type": "code",
   "execution_count": 57,
   "id": "49a990f8-f5b0-4b47-9718-f82f053199e9",
   "metadata": {},
   "outputs": [],
   "source": [
    "miniL6 = SentenceTransformer(\"all-MiniLM-L6-v2\")"
   ]
  },
  {
   "cell_type": "code",
   "execution_count": 58,
   "id": "6ad58436-8546-49ef-8bf1-d2f2165b1d17",
   "metadata": {},
   "outputs": [
    {
     "name": "stdout",
     "output_type": "stream",
     "text": [
      "(1, 384) (7, 384)\n"
     ]
    }
   ],
   "source": [
    "adopter_embeddings = miniL6.encode(adopter_bios)\n",
    "inmate_embeddings = miniL6.encode(inmate_bios)\n",
    "print(adopter_embeddings.shape, inmate_embeddings.shape)"
   ]
  },
  {
   "cell_type": "code",
   "execution_count": 59,
   "id": "0017dc9a-416f-4120-92ef-c17b54daeaf1",
   "metadata": {},
   "outputs": [
    {
     "name": "stdout",
     "output_type": "stream",
     "text": [
      "[[0.28919482 0.28570288 0.2931766  0.3055566  0.44136435 0.48476338\n",
      "  0.49952188]]\n"
     ]
    }
   ],
   "source": [
    "#similarities = miniL6.similarity(adopter_embeddings, inmate_embeddings)\n",
    "\n",
    "cos_similarities = cosine_similarity(adopter_embeddings, inmate_embeddings)\n",
    "print(cos_similarities) #js a few more sig digs"
   ]
  },
  {
   "cell_type": "markdown",
   "id": "beef7ab6-48cf-409f-b74b-d2c0c75fcdec",
   "metadata": {},
   "source": [
    "Some manual comparisons and reflections (L6):\n",
    "* 0.2892 = original\n",
    "1. 0.2857 < og, working out deleted (should this be lower? test w/o sports)\n",
    "2. 0.2932 > og, added running (should this be higher?)\n",
    "3. 0.3055 > og, added gardening (seems right? maybe higher tho) \n",
    "4. 0.4414 > og, unrelated hobbies (THIS IS BAD...should not be higher)\n",
    "5. 0.4848 > og, more abt fitness (this is good!)\n",
    "6. 0.4995 > og + max, more abt fitness + gardening (also good! maybe use transformations/training to make difference bigger?)"
   ]
  },
  {
   "cell_type": "code",
   "execution_count": 60,
   "id": "db993416-c453-4b8a-ba6e-b62702cfa274",
   "metadata": {},
   "outputs": [],
   "source": [
    "for idx_i, adopter in enumerate(adopter_bios):\n",
    "    #print(adopter)\n",
    "    for idx_j, inmate in enumerate(inmate_bios):\n",
    "        #print(f\" - {inmate: <30}: {cos_similarities[idx_i][idx_j]:.4f}\")\n",
    "        pass"
   ]
  },
  {
   "cell_type": "markdown",
   "id": "27658720-8821-4c65-b58d-a82c16719ec6",
   "metadata": {},
   "source": [
    "### Setting Up Comparison Function"
   ]
  },
  {
   "cell_type": "code",
   "execution_count": 61,
   "id": "386f5328-dcc2-4dc9-93cb-9e86fbd4a9f7",
   "metadata": {},
   "outputs": [],
   "source": [
    "def test_model(model, should_print=False):\n",
    "    adopter_embeddings = model.encode(adopter_bios)\n",
    "    inmate_embeddings = model.encode(inmate_bios)\n",
    "    print(adopter_embeddings.shape, inmate_embeddings.shape) #js checkinn\n",
    "    \n",
    "    cos_similarities = cosine_similarity(adopter_embeddings, inmate_embeddings)\n",
    "    if should_print:\n",
    "        for idx_i, adopter in enumerate(adopter_bios):\n",
    "            #print(adopter)\n",
    "            for idx_j, inmate in enumerate(inmate_bios):\n",
    "                print(f\" - {inmate: <30}: {cos_similarities[idx_i][idx_j]:.4f}\")\n",
    "    return cos_similarities[0]"
   ]
  },
  {
   "cell_type": "code",
   "execution_count": 62,
   "id": "0975e6f7-8041-43b7-b518-80e8eabbabc9",
   "metadata": {},
   "outputs": [
    {
     "name": "stdout",
     "output_type": "stream",
     "text": [
      "(1, 384) (7, 384)\n"
     ]
    }
   ],
   "source": [
    "miniL6_results = test_model(miniL6)"
   ]
  },
  {
   "cell_type": "code",
   "execution_count": 63,
   "id": "8f155afb-127c-4ebc-bb1b-04e333e134a2",
   "metadata": {},
   "outputs": [],
   "source": [
    "miniL3 = SentenceTransformer(\"paraphrase-MiniLM-L3-v2\")"
   ]
  },
  {
   "cell_type": "markdown",
   "id": "c5e9eb27-46af-451c-bf22-04c1e2c409e5",
   "metadata": {},
   "source": [
    "Some manual comparisons and reflections (L3):\n",
    "* 0.2142 = original\n",
    "1. 0.2185 > og, working out deleted (slightly higher...not good!!!!)\n",
    "2. 0.2634 > og, added running (eh okay)\n",
    "3. 0.2394 > og, added gardening (good but not big diff) \n",
    "4. 0.2028 < og, unrelated hobbies (good that it's lower!)\n",
    "5. 0.5046 > og + max, more abt fitness (this is good!)\n",
    "6. 0.4211 > og, more abt fitness + gardening (good that it's higher but gardening should have put it over #5)"
   ]
  },
  {
   "cell_type": "code",
   "execution_count": 64,
   "id": "0cd2f4cf-aee2-4c42-b65e-8e4819ef0c48",
   "metadata": {},
   "outputs": [
    {
     "name": "stdout",
     "output_type": "stream",
     "text": [
      "(1, 384) (7, 384)\n"
     ]
    }
   ],
   "source": [
    "miniL3_results = test_model(miniL3)"
   ]
  },
  {
   "cell_type": "markdown",
   "id": "37a2bac9-e977-4f0d-963e-d29748b5e260",
   "metadata": {},
   "source": [
    "I should really make like a dataframe to have a differences column and the descriptions or smt shouldn't I ughh perhaps later!"
   ]
  },
  {
   "cell_type": "code",
   "execution_count": 65,
   "id": "c04f02cb-a430-475c-b9df-e2c621425ca7",
   "metadata": {},
   "outputs": [],
   "source": [
    "# gemma = SentenceTransformer(\"google/embeddinggemma-300m\")\n",
    "# adopter_em = gemma.encode_query(adopter_bios[0])\n",
    "# inmate_em = gemma.encode_document(inmate_bios)\n",
    "# gemma_results = cosine_similarity(adopter_embeddings, inmate_embeddings)[0]"
   ]
  },
  {
   "cell_type": "code",
   "execution_count": 66,
   "id": "cbb45845-0ce6-4b91-9373-e30455827f6c",
   "metadata": {},
   "outputs": [
    {
     "name": "stdout",
     "output_type": "stream",
     "text": [
      "(1, 768) (7, 768)\n"
     ]
    }
   ],
   "source": [
    "mpnet = SentenceTransformer(\"all-mpnet-base-v2\")\n",
    "mpnet_results = test_model(mpnet)"
   ]
  },
  {
   "cell_type": "markdown",
   "id": "7822d10e-bb12-4341-bb23-77f1bc4efd5d",
   "metadata": {},
   "source": [
    "## Comparison + Plots, yk 📊"
   ]
  },
  {
   "cell_type": "code",
   "execution_count": 67,
   "id": "43282ed5-7a7d-4a93-a722-a0d161bcac11",
   "metadata": {},
   "outputs": [
    {
     "data": {
      "text/html": [
       "<div>\n",
       "<style scoped>\n",
       "    .dataframe tbody tr th:only-of-type {\n",
       "        vertical-align: middle;\n",
       "    }\n",
       "\n",
       "    .dataframe tbody tr th {\n",
       "        vertical-align: top;\n",
       "    }\n",
       "\n",
       "    .dataframe thead th {\n",
       "        text-align: right;\n",
       "    }\n",
       "</style>\n",
       "<table border=\"1\" class=\"dataframe\">\n",
       "  <thead>\n",
       "    <tr style=\"text-align: right;\">\n",
       "      <th></th>\n",
       "      <th>Inmate Descs</th>\n",
       "      <th>Inmate Bios</th>\n",
       "      <th>all-MiniLM-L6-v2</th>\n",
       "      <th>miniL6 differences</th>\n",
       "      <th>paraphrase-MiniLM-L3-v2</th>\n",
       "      <th>miniL3 differences</th>\n",
       "      <th>all-mpnet-base-v2</th>\n",
       "      <th>mpnet differences</th>\n",
       "    </tr>\n",
       "  </thead>\n",
       "  <tbody>\n",
       "    <tr>\n",
       "      <th>0</th>\n",
       "      <td>original</td>\n",
       "      <td>I like sports, cars, writing poems, and workin...</td>\n",
       "      <td>0.289195</td>\n",
       "      <td>0.000000</td>\n",
       "      <td>0.214195</td>\n",
       "      <td>0.000000</td>\n",
       "      <td>0.445803</td>\n",
       "      <td>0.000000</td>\n",
       "    </tr>\n",
       "    <tr>\n",
       "      <th>1</th>\n",
       "      <td>deleted working out, sports still there?</td>\n",
       "      <td>I like sports, cars, and writing poems. I have...</td>\n",
       "      <td>0.285703</td>\n",
       "      <td>-0.003492</td>\n",
       "      <td>0.218501</td>\n",
       "      <td>0.004307</td>\n",
       "      <td>0.445471</td>\n",
       "      <td>-0.000332</td>\n",
       "    </tr>\n",
       "    <tr>\n",
       "      <th>2</th>\n",
       "      <td>added running mention</td>\n",
       "      <td>I like sports, cars, writing poems, running, a...</td>\n",
       "      <td>0.293177</td>\n",
       "      <td>0.003982</td>\n",
       "      <td>0.263380</td>\n",
       "      <td>0.049186</td>\n",
       "      <td>0.453406</td>\n",
       "      <td>0.007604</td>\n",
       "    </tr>\n",
       "    <tr>\n",
       "      <th>3</th>\n",
       "      <td>added gardening mention</td>\n",
       "      <td>I like sports, cars, writing poems, working ou...</td>\n",
       "      <td>0.305557</td>\n",
       "      <td>0.016362</td>\n",
       "      <td>0.239406</td>\n",
       "      <td>0.025211</td>\n",
       "      <td>0.453166</td>\n",
       "      <td>0.007363</td>\n",
       "    </tr>\n",
       "    <tr>\n",
       "      <th>4</th>\n",
       "      <td>unrelated hobbies</td>\n",
       "      <td>I enjoy painting, knitting, and reading myster...</td>\n",
       "      <td>0.441364</td>\n",
       "      <td>0.152170</td>\n",
       "      <td>0.202818</td>\n",
       "      <td>-0.011377</td>\n",
       "      <td>0.538943</td>\n",
       "      <td>0.093140</td>\n",
       "    </tr>\n",
       "    <tr>\n",
       "      <th>5</th>\n",
       "      <td>more in depth about sports, fitness, etc.</td>\n",
       "      <td>I enjoy working out, going for runs, and playi...</td>\n",
       "      <td>0.484763</td>\n",
       "      <td>0.195569</td>\n",
       "      <td>0.504567</td>\n",
       "      <td>0.290372</td>\n",
       "      <td>0.590267</td>\n",
       "      <td>0.144464</td>\n",
       "    </tr>\n",
       "    <tr>\n",
       "      <th>6</th>\n",
       "      <td>longer, gardening mention</td>\n",
       "      <td>I like working out and staying active through ...</td>\n",
       "      <td>0.499522</td>\n",
       "      <td>0.210327</td>\n",
       "      <td>0.421128</td>\n",
       "      <td>0.206934</td>\n",
       "      <td>0.748406</td>\n",
       "      <td>0.302603</td>\n",
       "    </tr>\n",
       "  </tbody>\n",
       "</table>\n",
       "</div>"
      ],
      "text/plain": [
       "                                Inmate Descs  \\\n",
       "0                                   original   \n",
       "1   deleted working out, sports still there?   \n",
       "2                      added running mention   \n",
       "3                    added gardening mention   \n",
       "4                          unrelated hobbies   \n",
       "5  more in depth about sports, fitness, etc.   \n",
       "6                  longer, gardening mention   \n",
       "\n",
       "                                         Inmate Bios  all-MiniLM-L6-v2  \\\n",
       "0  I like sports, cars, writing poems, and workin...          0.289195   \n",
       "1  I like sports, cars, and writing poems. I have...          0.285703   \n",
       "2  I like sports, cars, writing poems, running, a...          0.293177   \n",
       "3  I like sports, cars, writing poems, working ou...          0.305557   \n",
       "4  I enjoy painting, knitting, and reading myster...          0.441364   \n",
       "5  I enjoy working out, going for runs, and playi...          0.484763   \n",
       "6  I like working out and staying active through ...          0.499522   \n",
       "\n",
       "   miniL6 differences  paraphrase-MiniLM-L3-v2  miniL3 differences  \\\n",
       "0            0.000000                 0.214195            0.000000   \n",
       "1           -0.003492                 0.218501            0.004307   \n",
       "2            0.003982                 0.263380            0.049186   \n",
       "3            0.016362                 0.239406            0.025211   \n",
       "4            0.152170                 0.202818           -0.011377   \n",
       "5            0.195569                 0.504567            0.290372   \n",
       "6            0.210327                 0.421128            0.206934   \n",
       "\n",
       "   all-mpnet-base-v2  mpnet differences  \n",
       "0           0.445803           0.000000  \n",
       "1           0.445471          -0.000332  \n",
       "2           0.453406           0.007604  \n",
       "3           0.453166           0.007363  \n",
       "4           0.538943           0.093140  \n",
       "5           0.590267           0.144464  \n",
       "6           0.748406           0.302603  "
      ]
     },
     "execution_count": 67,
     "metadata": {},
     "output_type": "execute_result"
    }
   ],
   "source": [
    "results = pd.DataFrame(data={\"Inmate Descs\": inmate_descs,\n",
    "                             \"Inmate Bios\": inmate_bios,\n",
    "                             \"all-MiniLM-L6-v2\": miniL6_results, #sentence transformer\n",
    "                             \"miniL6 differences\": miniL6_results - miniL6_results[0],\n",
    "                             \"paraphrase-MiniLM-L3-v2\": miniL3_results, #sentence transformer\n",
    "                             \"miniL3 differences\": miniL3_results - miniL3_results[0],\n",
    "                             \"all-mpnet-base-v2\": mpnet_results,\n",
    "                             \"mpnet differences\": mpnet_results - mpnet_results[0]\n",
    "                            })\n",
    "results"
   ]
  },
  {
   "cell_type": "code",
   "execution_count": 68,
   "id": "57fe483a-38be-4280-836d-b2197b778d33",
   "metadata": {},
   "outputs": [
    {
     "data": {
      "text/plain": [
       "(array([0, 1, 2, 3, 4, 5, 6]),\n",
       " [Text(0, 0, 'original'),\n",
       "  Text(1, 0, 'deleted working out, sports still there?'),\n",
       "  Text(2, 0, 'added running mention'),\n",
       "  Text(3, 0, 'added gardening mention'),\n",
       "  Text(4, 0, 'unrelated hobbies'),\n",
       "  Text(5, 0, 'more in depth about sports, fitness, etc.'),\n",
       "  Text(6, 0, 'longer, gardening mention')])"
      ]
     },
     "execution_count": 68,
     "metadata": {},
     "output_type": "execute_result"
    },
    {
     "data": {
      "image/png": "[encoded data removed]",
      "text/plain": [
       "<Figure size 1000x400 with 1 Axes>"
      ]
     },
     "metadata": {},
     "output_type": "display_data"
    }
   ],
   "source": [
    "results.plot(\n",
    "    x='Inmate Descs', \n",
    "    y=['all-MiniLM-L6-v2', 'paraphrase-MiniLM-L3-v2', 'all-mpnet-base-v2'],\n",
    "    kind='bar',\n",
    "    figsize=(10,4)\n",
    ")\n",
    "\n",
    "plt.ylabel(\"Cosine Similarity\")\n",
    "plt.title(\"Embedding Similarity by Model\")\n",
    "plt.xticks(rotation=30, ha='right')"
   ]
  },
  {
   "cell_type": "code",
   "execution_count": null,
   "id": "df7b0536-5e5d-4061-a41b-16ec6759be98",
   "metadata": {},
   "outputs": [],
   "source": []
  },
  {
   "cell_type": "markdown",
   "id": "05099008-8b09-4134-9407-9d9ffd60f003",
   "metadata": {},
   "source": [
    "### Part 2: I got more data yippee!!!"
   ]
  },
  {
   "cell_type": "markdown",
   "id": "82b1a99f-d342-466b-a1c5-805827f37fa7",
   "metadata": {},
   "source": [
    "just run the imports in the beginning and nothing else pls. will rewrite all the model loading and yadda yadda"
   ]
  },
  {
   "cell_type": "code",
   "execution_count": null,
   "id": "5eabc77f-89c7-40c6-a7f3-59f983491d15",
   "metadata": {},
   "outputs": [],
   "source": [
    "adopter_bio = [\"I have a therapy cat. We regularly visit nursing homes to visit with residents. I enjoy running (currently training for a half marathon) and fitness. I have run three marathons in the past. I work in higher education at UC Berkeley. One of my favorite parts of my job is the opportunity to learn about all the academic programs within the university. I have two sisters and am newly married to my husband. We enjoy traveling together and recently visited Spain, Australia, and Greece. I enjoy gardening (currently growing peppers, kale, arugula, tomatoes, strawberries and peas).\",\n",
    "              \"loves sports (I played college soccer until I got hurt), traveling, hiking with my husband, reading, and playing with my two dogs. I'm a practicing attorney working primarily on disability cases at the federal appellate level\",\n",
    "              \"I'm a handy man that can fix most appliances.  I can write and review business plans.  I'm a successful stock trader and know finances.  My greatest strength is knowing the experts to talk to for solving problems.\",\n",
    "              \"- art, outdoors, tennis, rock climbing, and swimming -college grad with a degree in Criminal Justice and Sociology\",\n",
    "              \"I am a gardener and urban farmer. I was born in a small town in Colorado. I love music and and horror movies. I like building stuff out of recycled materials. My brother and father were both inmates.\",]\n",
    "\n",
    "new_inmate_bios = [\"\",\n",
    "                  \"\",\n",
    "                  \"\",\n",
    "                  \"\",\n",
    "                  \"\",]\n",
    "\n",
    "#adopter_descs = [\"run + garden\", \"attorney\", \"handy\", \"outdoors\", \"farm\"]\n",
    "inmate_descs = [\"run + garden match\", \"attorney match\", \"attorney match\", \"handy match\", \"outdoors match\", \"farm match\", \"farm match\", \"farm match\"]"
   ]
  },
  {
   "cell_type": "code",
   "execution_count": null,
   "id": "e1920e25-bb10-4175-b972-def0069913b4",
   "metadata": {},
   "outputs": [],
   "source": [
    "results = pd.DataFrame(data={\"Inmate Descs\": inmate_descs,\n",
    "                             \"Inmate Bios\": inmate_bios,\n",
    "                             \"all-MiniLM-L6-v2\": miniL6_results, #sentence transformer\n",
    "                             \"miniL6 differences\": miniL6_results - miniL6_results[0],\n",
    "                             \"paraphrase-MiniLM-L3-v2\": miniL3_results, #sentence transformer\n",
    "                             \"miniL3 differences\": miniL3_results - miniL3_results[0],\n",
    "                             \"all-mpnet-base-v2\": mpnet_results,\n",
    "                             \"mpnet differences\": mpnet_results - mpnet_results[0]\n",
    "                            })\n",
    "results"
   ]
  },
  {
   "cell_type": "code",
   "execution_count": null,
   "id": "49d735f7-6774-4b14-97f4-81870df15ac6",
   "metadata": {},
   "outputs": [],
   "source": []
  }
 ],
 "metadata": {
  "kernelspec": {
   "display_name": "Python 3 (ipykernel)",
   "language": "python",
   "name": "python3"
  },
  "language_info": {
   "codemirror_mode": {
    "name": "ipython",
    "version": 3
   },
   "file_extension": ".py",
   "mimetype": "text/x-python",
   "name": "python",
   "nbconvert_exporter": "python",
   "pygments_lexer": "ipython3",
   "version": "3.13.7"
  }
 },
 "nbformat": 4,
 "nbformat_minor": 5
}
